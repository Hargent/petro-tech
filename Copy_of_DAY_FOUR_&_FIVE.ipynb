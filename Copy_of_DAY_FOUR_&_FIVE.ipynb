{
  "cells": [
    {
      "cell_type": "markdown",
      "metadata": {
        "id": "view-in-github",
        "colab_type": "text"
      },
      "source": [
        "<a href=\"https://colab.research.google.com/github/Hargent/petro-tech/blob/main/Copy_of_DAY_FOUR_%26_FIVE.ipynb\" target=\"_parent\"><img src=\"https://colab.research.google.com/assets/colab-badge.svg\" alt=\"Open In Colab\"/></a>"
      ]
    },
    {
      "cell_type": "markdown",
      "id": "388f1c6a",
      "metadata": {
        "id": "388f1c6a"
      },
      "source": [
        "## TABLE OF CONTENTS"
      ]
    },
    {
      "cell_type": "code",
      "source": [],
      "metadata": {
        "id": "KqoVS9chkLm5"
      },
      "id": "KqoVS9chkLm5",
      "execution_count": null,
      "outputs": []
    },
    {
      "cell_type": "markdown",
      "id": "5bee5da5",
      "metadata": {
        "id": "5bee5da5"
      },
      "source": [
        "* **Data Structures - Lists, Dictionaries, and Sets**\n",
        "    * Lists - ordered, mutable collection of elements.\n",
        "        * Syntax for creating lists\n",
        "        * Indexing and slicing\n",
        "        * List Methods:\n",
        "            * `append()`\n",
        "            * `extend()`\n",
        "            * `insert()`\n",
        "            * `remove()`\n",
        "            * `pop()`\n",
        "    * Dictionaries - unordered collection of key-value pairs..\n",
        "        * Syntax for creating dictionaries\n",
        "        * Accessing values using keys\n",
        "        * Dictionary methods\n",
        "            * `keys()`\n",
        "            * `values()`\n",
        "            * `items()`\n",
        "            * `get()`\n",
        "            * `update()`\n",
        "    * Choosing the Right Data Structure\n",
        "\n",
        "* **Example**\n",
        "* **Day 4 Challenge**"
      ]
    },
    {
      "cell_type": "markdown",
      "id": "e140e51a-7043-4a46-9774-ca94566ce8ef",
      "metadata": {
        "id": "e140e51a-7043-4a46-9774-ca94566ce8ef"
      },
      "source": [
        "### Lists\n",
        "Ordered, mutable collection of elements\n"
      ]
    },
    {
      "cell_type": "markdown",
      "id": "edbadec6-7657-406e-8314-027bfe20d777",
      "metadata": {
        "id": "edbadec6-7657-406e-8314-027bfe20d777"
      },
      "source": [
        "#### Syntax for creating lists"
      ]
    },
    {
      "cell_type": "code",
      "execution_count": null,
      "id": "493fdc3a",
      "metadata": {
        "id": "493fdc3a"
      },
      "outputs": [],
      "source": [
        "# # List of drilling equipment in a well construction project\n",
        "drilling_equipment = ['Drill Bit', 'Mud Motor', 'Drill Pipe', 'Casing', 'Blowout Preventer']"
      ]
    },
    {
      "cell_type": "code",
      "execution_count": null,
      "id": "d14c3777-20b7-481c-9ddf-9421f5e21d3a",
      "metadata": {
        "id": "d14c3777-20b7-481c-9ddf-9421f5e21d3a"
      },
      "outputs": [],
      "source": []
    },
    {
      "cell_type": "code",
      "execution_count": null,
      "id": "f3004050",
      "metadata": {
        "id": "f3004050",
        "outputId": "89f32015-e32d-4d50-a1cc-1b36bbd31ab7"
      },
      "outputs": [
        {
          "data": {
            "text/plain": [
              "['me', 2, 2.8, False]"
            ]
          },
          "execution_count": 17,
          "metadata": {},
          "output_type": "execute_result"
        }
      ],
      "source": [
        "dummy_list = ['me', 2, 2.8, False]\n",
        "dummy_list"
      ]
    },
    {
      "cell_type": "code",
      "execution_count": null,
      "id": "44ddc20c",
      "metadata": {
        "id": "44ddc20c"
      },
      "outputs": [],
      "source": []
    },
    {
      "cell_type": "markdown",
      "id": "e7439d0c-bf01-427d-a02c-67bc1a3acf86",
      "metadata": {
        "id": "e7439d0c-bf01-427d-a02c-67bc1a3acf86"
      },
      "source": [
        "#### Indexing and slicing:\n",
        "Accessing elements using indices or slicing notation.\n"
      ]
    },
    {
      "cell_type": "code",
      "execution_count": null,
      "id": "d095503a-8650-4b05-90d4-3770400e73f9",
      "metadata": {
        "id": "d095503a-8650-4b05-90d4-3770400e73f9",
        "outputId": "e56731a6-791d-4bf8-8a5c-62a067d13878"
      },
      "outputs": [
        {
          "data": {
            "text/plain": [
              "['Drill Bit', 'Mud Motor', 'Drill Pipe', 'Casing', 'Blowout Preventer']"
            ]
          },
          "execution_count": 20,
          "metadata": {},
          "output_type": "execute_result"
        }
      ],
      "source": [
        "drilling_equipment"
      ]
    },
    {
      "cell_type": "code",
      "execution_count": null,
      "id": "1fac9fb0",
      "metadata": {
        "id": "1fac9fb0"
      },
      "outputs": [],
      "source": [
        "# # Accessing the drilling equipment at the second position\n",
        "second_equipment = drilling_equipment[1]"
      ]
    },
    {
      "cell_type": "code",
      "execution_count": null,
      "id": "cb2e04bc-8461-44eb-8426-d470ba718236",
      "metadata": {
        "id": "cb2e04bc-8461-44eb-8426-d470ba718236",
        "outputId": "5a49cb59-f203-4685-ecea-69a034061fb9"
      },
      "outputs": [
        {
          "data": {
            "text/plain": [
              "'Mud Motor'"
            ]
          },
          "execution_count": 23,
          "metadata": {},
          "output_type": "execute_result"
        }
      ],
      "source": [
        "drilling_equipment[1]"
      ]
    },
    {
      "cell_type": "code",
      "execution_count": null,
      "id": "a503e388-2719-4c62-a67a-9ffebe2d3473",
      "metadata": {
        "id": "a503e388-2719-4c62-a67a-9ffebe2d3473",
        "outputId": "52b9271e-7e73-4ff5-c883-816cfcbc631c"
      },
      "outputs": [
        {
          "data": {
            "text/plain": [
              "['Mud Motor', 'Drill Pipe', 'Casing']"
            ]
          },
          "execution_count": 25,
          "metadata": {},
          "output_type": "execute_result"
        }
      ],
      "source": [
        "drilling_equipment[1:4]"
      ]
    },
    {
      "cell_type": "code",
      "execution_count": null,
      "id": "88c25081-2325-4b7e-922a-3ae196287b59",
      "metadata": {
        "id": "88c25081-2325-4b7e-922a-3ae196287b59"
      },
      "outputs": [],
      "source": []
    },
    {
      "cell_type": "markdown",
      "id": "19dc5bd4-0909-4a37-8c2c-baa5c4f9fbfd",
      "metadata": {
        "id": "19dc5bd4-0909-4a37-8c2c-baa5c4f9fbfd"
      },
      "source": [
        "#### List Methods:\n"
      ]
    },
    {
      "cell_type": "markdown",
      "id": "a84d8e42-a4be-40e5-8022-31064ba95302",
      "metadata": {
        "id": "a84d8e42-a4be-40e5-8022-31064ba95302"
      },
      "source": [
        "`append()`: Adds an element to the end of the list.<br>\n",
        "`extend()`: Appends elements from an iterable to the end.<br>\n",
        "`insert()`: Inserts an element at a specified position.<br>\n",
        "`remove()`: Removes the first occurrence of a value.<br>\n",
        "`pop()`: Removes and returns the element at a specified index or the last element if no index is specified.<br>"
      ]
    },
    {
      "cell_type": "code",
      "execution_count": null,
      "id": "68fa5ab5-eec5-405d-a9c5-1020db989345",
      "metadata": {
        "id": "68fa5ab5-eec5-405d-a9c5-1020db989345"
      },
      "outputs": [],
      "source": [
        "groceries=['milk', 'sugar', 'butter']"
      ]
    },
    {
      "cell_type": "code",
      "execution_count": null,
      "id": "40955153-49fc-43e6-b03e-aaa2ee21a68c",
      "metadata": {
        "id": "40955153-49fc-43e6-b03e-aaa2ee21a68c"
      },
      "outputs": [],
      "source": [
        "groceries.append('chocolate')"
      ]
    },
    {
      "cell_type": "code",
      "execution_count": null,
      "id": "66a94b74-5748-4624-bef9-01df9838fd6d",
      "metadata": {
        "id": "66a94b74-5748-4624-bef9-01df9838fd6d",
        "outputId": "e361c4f6-4751-479e-e4cf-973b189e59d1"
      },
      "outputs": [
        {
          "data": {
            "text/plain": [
              "['milk', 'sugar', 'butter', 'chocolate']"
            ]
          },
          "execution_count": 28,
          "metadata": {},
          "output_type": "execute_result"
        }
      ],
      "source": [
        "groceries"
      ]
    },
    {
      "cell_type": "code",
      "execution_count": null,
      "id": "d78f284b-6a41-412b-a3e1-6cdfd11b075b",
      "metadata": {
        "id": "d78f284b-6a41-412b-a3e1-6cdfd11b075b",
        "outputId": "fd14a855-9f91-4e67-d231-99df228a805d"
      },
      "outputs": [
        {
          "data": {
            "text/plain": [
              "['Drill Bit', 'Mud Motor', 'Drill Pipe', 'Casing', 'Blowout Preventer']"
            ]
          },
          "execution_count": 29,
          "metadata": {},
          "output_type": "execute_result"
        }
      ],
      "source": [
        "drilling_equipment"
      ]
    },
    {
      "cell_type": "code",
      "execution_count": null,
      "id": "d0e4b09c",
      "metadata": {
        "id": "d0e4b09c"
      },
      "outputs": [],
      "source": [
        "# Adding a new piece of equipment to the list\n",
        "drilling_equipment.append('Logging Tool')"
      ]
    },
    {
      "cell_type": "code",
      "execution_count": null,
      "id": "db294b27-049e-4d50-b3bc-1e47cc5ec122",
      "metadata": {
        "id": "db294b27-049e-4d50-b3bc-1e47cc5ec122",
        "outputId": "c12a5915-e2bf-4a29-add7-26ac80a6d9dd"
      },
      "outputs": [
        {
          "data": {
            "text/plain": [
              "['Drill Bit',\n",
              " 'Mud Motor',\n",
              " 'Drill Pipe',\n",
              " 'Casing',\n",
              " 'Blowout Preventer',\n",
              " 'Logging Tool']"
            ]
          },
          "execution_count": 31,
          "metadata": {},
          "output_type": "execute_result"
        }
      ],
      "source": [
        "drilling_equipment"
      ]
    },
    {
      "cell_type": "code",
      "execution_count": null,
      "id": "9bc52ae1-1980-4b97-9510-e0628274efdf",
      "metadata": {
        "id": "9bc52ae1-1980-4b97-9510-e0628274efdf"
      },
      "outputs": [],
      "source": []
    },
    {
      "cell_type": "code",
      "execution_count": null,
      "id": "faba1d5c",
      "metadata": {
        "id": "faba1d5c"
      },
      "outputs": [],
      "source": [
        "# Adding additional equipment from a different source\n",
        "additional_equipment = ['Cementing Unit', 'Perforating Gun']\n",
        "# drilling_equipment.extend(additional_equipment)"
      ]
    },
    {
      "cell_type": "code",
      "execution_count": null,
      "id": "660bceef-e125-4cb9-8d03-a50f266edda3",
      "metadata": {
        "id": "660bceef-e125-4cb9-8d03-a50f266edda3",
        "outputId": "f037318a-d480-45ab-bdda-e7dc5ed7e04d"
      },
      "outputs": [
        {
          "data": {
            "text/plain": [
              "['Drill Bit',\n",
              " 'Mud Motor',\n",
              " 'Drill Pipe',\n",
              " 'Casing',\n",
              " 'Blowout Preventer',\n",
              " 'Logging Tool',\n",
              " ['Cementing Unit', 'Perforating Gun']]"
            ]
          },
          "execution_count": 34,
          "metadata": {},
          "output_type": "execute_result"
        }
      ],
      "source": [
        "drilling_equipment.append(additional_equipment)\n",
        "drilling_equipment"
      ]
    },
    {
      "cell_type": "code",
      "execution_count": null,
      "id": "01622e30-ff59-4e2a-bd52-2ff982440730",
      "metadata": {
        "id": "01622e30-ff59-4e2a-bd52-2ff982440730"
      },
      "outputs": [],
      "source": [
        "drilling_equipment.extend(additional_equipment)"
      ]
    },
    {
      "cell_type": "code",
      "execution_count": null,
      "id": "2ba0927a-7488-4456-b2b3-459947369730",
      "metadata": {
        "id": "2ba0927a-7488-4456-b2b3-459947369730",
        "outputId": "470f3917-41bc-4f1f-fa6e-aae9b33fae66"
      },
      "outputs": [
        {
          "data": {
            "text/plain": [
              "['Drill Bit',\n",
              " 'Mud Motor',\n",
              " 'Drill Pipe',\n",
              " 'Casing',\n",
              " 'Blowout Preventer',\n",
              " 'Logging Tool',\n",
              " ['Cementing Unit', 'Perforating Gun'],\n",
              " 'Cementing Unit',\n",
              " 'Perforating Gun']"
            ]
          },
          "execution_count": 36,
          "metadata": {},
          "output_type": "execute_result"
        }
      ],
      "source": [
        "drilling_equipment"
      ]
    },
    {
      "cell_type": "code",
      "execution_count": null,
      "id": "c131c747",
      "metadata": {
        "id": "c131c747"
      },
      "outputs": [],
      "source": [
        "# Inserting a piece of equipment at a specific position\n",
        "drilling_equipment.insert(3, 'Downhole Motor')"
      ]
    },
    {
      "cell_type": "code",
      "execution_count": null,
      "id": "38b0e343-9764-47c4-985f-d6f7000ffa6f",
      "metadata": {
        "id": "38b0e343-9764-47c4-985f-d6f7000ffa6f",
        "outputId": "cb9263c3-e324-4c00-d769-2664e856dbb0"
      },
      "outputs": [
        {
          "data": {
            "text/plain": [
              "['Drill Bit',\n",
              " 'Mud Motor',\n",
              " 'Drill Pipe',\n",
              " 'Downhole Motor',\n",
              " 'Casing',\n",
              " 'Blowout Preventer',\n",
              " 'Logging Tool',\n",
              " ['Cementing Unit', 'Perforating Gun'],\n",
              " 'Cementing Unit',\n",
              " 'Perforating Gun']"
            ]
          },
          "execution_count": 38,
          "metadata": {},
          "output_type": "execute_result"
        }
      ],
      "source": [
        "drilling_equipment"
      ]
    },
    {
      "cell_type": "code",
      "execution_count": null,
      "id": "f6fe6969-ce0a-4e47-ad76-785a455961ed",
      "metadata": {
        "id": "f6fe6969-ce0a-4e47-ad76-785a455961ed"
      },
      "outputs": [],
      "source": []
    },
    {
      "cell_type": "code",
      "execution_count": null,
      "id": "aa6ecab6",
      "metadata": {
        "id": "aa6ecab6"
      },
      "outputs": [],
      "source": [
        "# Removing the 'Casing' from the list\n",
        "drilling_equipment.remove('Casing')"
      ]
    },
    {
      "cell_type": "code",
      "execution_count": null,
      "id": "e675a0b4-fd85-433e-acaa-478da2ef6b98",
      "metadata": {
        "id": "e675a0b4-fd85-433e-acaa-478da2ef6b98",
        "outputId": "2b69c170-6150-40bf-8e13-4bd87b6350a8"
      },
      "outputs": [
        {
          "data": {
            "text/plain": [
              "['Drill Bit',\n",
              " 'Mud Motor',\n",
              " 'Drill Pipe',\n",
              " 'Downhole Motor',\n",
              " 'Blowout Preventer',\n",
              " 'Logging Tool',\n",
              " ['Cementing Unit', 'Perforating Gun'],\n",
              " 'Cementing Unit',\n",
              " 'Perforating Gun']"
            ]
          },
          "execution_count": 40,
          "metadata": {},
          "output_type": "execute_result"
        }
      ],
      "source": [
        "drilling_equipment"
      ]
    },
    {
      "cell_type": "code",
      "execution_count": null,
      "id": "80388bad-32db-4752-86ea-c9cae2ba98cd",
      "metadata": {
        "id": "80388bad-32db-4752-86ea-c9cae2ba98cd"
      },
      "outputs": [],
      "source": []
    },
    {
      "cell_type": "code",
      "execution_count": null,
      "id": "c1084d24",
      "metadata": {
        "id": "c1084d24",
        "outputId": "dfec54c3-dbfb-46ea-fe84-624e10bc9521"
      },
      "outputs": [
        {
          "data": {
            "text/plain": [
              "['Drill Bit',\n",
              " 'Mud Motor',\n",
              " 'Drill Pipe',\n",
              " 'Downhole Motor',\n",
              " 'Blowout Preventer',\n",
              " 'Logging Tool',\n",
              " ['Cementing Unit', 'Perforating Gun'],\n",
              " 'Cementing Unit']"
            ]
          },
          "execution_count": 42,
          "metadata": {},
          "output_type": "execute_result"
        }
      ],
      "source": [
        "drilling_equipment"
      ]
    },
    {
      "cell_type": "code",
      "execution_count": null,
      "id": "0b28d586",
      "metadata": {
        "id": "0b28d586"
      },
      "outputs": [],
      "source": [
        "# Popping and retrieving the last piece of equipment\n",
        "last_equipment = drilling_equipment.pop()"
      ]
    },
    {
      "cell_type": "code",
      "execution_count": null,
      "id": "1846d366-ab6a-4618-90ab-4a8b30e8408d",
      "metadata": {
        "id": "1846d366-ab6a-4618-90ab-4a8b30e8408d",
        "outputId": "61e6220b-efaf-41ef-d4a2-720c3af479b9"
      },
      "outputs": [
        {
          "data": {
            "text/plain": [
              "'Cementing Unit'"
            ]
          },
          "execution_count": 44,
          "metadata": {},
          "output_type": "execute_result"
        }
      ],
      "source": [
        "last_equipment"
      ]
    },
    {
      "cell_type": "code",
      "execution_count": null,
      "id": "479c9465-537a-4df3-b635-1238fa90b02d",
      "metadata": {
        "id": "479c9465-537a-4df3-b635-1238fa90b02d"
      },
      "outputs": [],
      "source": [
        "first_equipment = drilling_equipment.pop(0)"
      ]
    },
    {
      "cell_type": "code",
      "execution_count": null,
      "id": "5999968d-b16d-418f-afc2-335df3c27db4",
      "metadata": {
        "id": "5999968d-b16d-418f-afc2-335df3c27db4",
        "outputId": "d1fb2d2a-e8f3-489b-8b57-8da184108ca4"
      },
      "outputs": [
        {
          "data": {
            "text/plain": [
              "'Drill Bit'"
            ]
          },
          "execution_count": 46,
          "metadata": {},
          "output_type": "execute_result"
        }
      ],
      "source": [
        "first_equipment"
      ]
    },
    {
      "cell_type": "code",
      "execution_count": null,
      "id": "844980a3-00cd-4c7d-8ea7-366340e35168",
      "metadata": {
        "id": "844980a3-00cd-4c7d-8ea7-366340e35168",
        "outputId": "ff4f194c-eaab-456c-a336-3e8bf59b1cc4"
      },
      "outputs": [
        {
          "data": {
            "text/plain": [
              "['Mud Motor',\n",
              " 'Drill Pipe',\n",
              " 'Downhole Motor',\n",
              " 'Blowout Preventer',\n",
              " 'Logging Tool',\n",
              " ['Cementing Unit', 'Perforating Gun']]"
            ]
          },
          "execution_count": 47,
          "metadata": {},
          "output_type": "execute_result"
        }
      ],
      "source": [
        "drilling_equipment"
      ]
    },
    {
      "cell_type": "code",
      "execution_count": null,
      "id": "6860597c-8f5e-4bb8-8d1b-c2425a92c5cb",
      "metadata": {
        "id": "6860597c-8f5e-4bb8-8d1b-c2425a92c5cb"
      },
      "outputs": [],
      "source": []
    },
    {
      "cell_type": "code",
      "execution_count": null,
      "id": "3f8ed933-383c-459c-8674-a9971fa4248f",
      "metadata": {
        "id": "3f8ed933-383c-459c-8674-a9971fa4248f"
      },
      "outputs": [],
      "source": []
    },
    {
      "cell_type": "code",
      "execution_count": null,
      "id": "aeb1af79-fd86-4b4b-bfc0-a5f33da69aa9",
      "metadata": {
        "id": "aeb1af79-fd86-4b4b-bfc0-a5f33da69aa9"
      },
      "outputs": [],
      "source": []
    },
    {
      "cell_type": "markdown",
      "id": "09f3222a-1697-4bc4-8f3d-ae746bf5994f",
      "metadata": {
        "id": "09f3222a-1697-4bc4-8f3d-ae746bf5994f"
      },
      "source": [
        "### Dictionaries\n",
        "Unordered collection of key-value pairs.\n"
      ]
    },
    {
      "cell_type": "code",
      "execution_count": null,
      "id": "2302098b-fe7e-4252-a21d-884868dd2d5e",
      "metadata": {
        "id": "2302098b-fe7e-4252-a21d-884868dd2d5e"
      },
      "outputs": [],
      "source": [
        "my_dictionary = {'fav_book': 'atomic_habits',\n",
        "                 'fav_sport':'bball',\n",
        "                 'number': 7}"
      ]
    },
    {
      "cell_type": "code",
      "execution_count": null,
      "id": "d6cdc390-a64d-4134-b2fd-c5e5488a9ccc",
      "metadata": {
        "id": "d6cdc390-a64d-4134-b2fd-c5e5488a9ccc"
      },
      "outputs": [],
      "source": [
        "# Reservoir properties for a specific formation\n",
        "formation_A_properties = {\n",
        "    'Porosity': 0.22,\n",
        "    'Permeability': 150,\n",
        "    'Oil_Saturation': 0.75,\n",
        "    'Gas_Saturation': 0.15\n",
        "}\n"
      ]
    },
    {
      "cell_type": "code",
      "execution_count": null,
      "id": "875fb96b-71bc-4384-9667-8cbee04b25fa",
      "metadata": {
        "id": "875fb96b-71bc-4384-9667-8cbee04b25fa",
        "outputId": "f8cc3127-76ac-4d5a-aff2-adb52272368b"
      },
      "outputs": [
        {
          "data": {
            "text/plain": [
              "{'Porosity': 0.22,\n",
              " 'Permeability': 150,\n",
              " 'Oil_Saturation': 0.75,\n",
              " 'Gas_Saturation': 0.15}"
            ]
          },
          "execution_count": 53,
          "metadata": {},
          "output_type": "execute_result"
        }
      ],
      "source": [
        "formation_A_properties"
      ]
    },
    {
      "cell_type": "code",
      "execution_count": null,
      "id": "6de7d8b1-be62-4af3-9dae-26b23ff84c88",
      "metadata": {
        "id": "6de7d8b1-be62-4af3-9dae-26b23ff84c88"
      },
      "outputs": [],
      "source": []
    },
    {
      "cell_type": "code",
      "execution_count": null,
      "id": "a95415c5-dd61-49df-9cef-8f7986b806cb",
      "metadata": {
        "id": "a95415c5-dd61-49df-9cef-8f7986b806cb"
      },
      "outputs": [],
      "source": []
    },
    {
      "cell_type": "markdown",
      "id": "355e1a43-e30e-4ade-89a7-f1226e9f42a5",
      "metadata": {
        "id": "355e1a43-e30e-4ade-89a7-f1226e9f42a5"
      },
      "source": [
        "#### Syntax for creating dictionaries:\n",
        "dictn = {'key1': 'value1', 'key2': 'value2'}\n"
      ]
    },
    {
      "cell_type": "code",
      "execution_count": null,
      "id": "f397d8ec-e19f-45a8-95af-c99758dbdb04",
      "metadata": {
        "id": "f397d8ec-e19f-45a8-95af-c99758dbdb04"
      },
      "outputs": [],
      "source": [
        "well_info = {\n",
        "    'Well_ID': 'W-001',\n",
        "    'Depth': 4500\n",
        "    'Type': 'Production',\n",
        "    'Formation': 'Formation_A'\n",
        "}"
      ]
    },
    {
      "cell_type": "markdown",
      "id": "73fc62d8-cb39-4e45-ba2b-45f0dcfda2e5",
      "metadata": {
        "id": "73fc62d8-cb39-4e45-ba2b-45f0dcfda2e5"
      },
      "source": [
        "#### Accessing values using keys:"
      ]
    },
    {
      "cell_type": "code",
      "execution_count": null,
      "id": "0d65c61f-79e6-4758-ad3c-7da8e6a526f4",
      "metadata": {
        "id": "0d65c61f-79e6-4758-ad3c-7da8e6a526f4"
      },
      "outputs": [],
      "source": [
        "# well_depth = well_info['Depth']"
      ]
    },
    {
      "cell_type": "code",
      "execution_count": null,
      "id": "a93506ea-c128-40ef-a6f0-930a25405c27",
      "metadata": {
        "id": "a93506ea-c128-40ef-a6f0-930a25405c27"
      },
      "outputs": [],
      "source": [
        "well_type = well_info['Type']"
      ]
    },
    {
      "cell_type": "code",
      "execution_count": null,
      "id": "bae9d326-ac84-4447-9974-efd7b5827a2c",
      "metadata": {
        "id": "bae9d326-ac84-4447-9974-efd7b5827a2c",
        "outputId": "c0f9dc5f-402f-4494-dd3a-fa5737e8c6f8"
      },
      "outputs": [
        {
          "name": "stdout",
          "output_type": "stream",
          "text": [
            "Production\n"
          ]
        }
      ],
      "source": [
        "print(well_type)"
      ]
    },
    {
      "cell_type": "code",
      "execution_count": null,
      "id": "e8c0aded-b488-4ed7-b1d6-6a797327bcb4",
      "metadata": {
        "id": "e8c0aded-b488-4ed7-b1d6-6a797327bcb4"
      },
      "outputs": [],
      "source": []
    },
    {
      "cell_type": "markdown",
      "id": "3f3a9d5f-b2a6-445f-a9f0-4107651ae7e7",
      "metadata": {
        "id": "3f3a9d5f-b2a6-445f-a9f0-4107651ae7e7"
      },
      "source": [
        "#### Dictionary methods:\n",
        "`keys()`: Returns a view of all keys in the dictionary.<br>\n",
        "`values()`: Returns a view of all values in the dictionary.<br>\n",
        "`items()`: Returns a view of key-value pairs as tuples.<br>\n",
        "`get()`: Retrieves the value associated with a key, or a default value if the key is not present.<br>\n",
        "`update()`: Updates the dictionary with key-value pairs from another dictionary or iterable.<br>"
      ]
    },
    {
      "cell_type": "code",
      "execution_count": null,
      "id": "6ce722ec-36de-4412-ba13-ca0edb8e1253",
      "metadata": {
        "id": "6ce722ec-36de-4412-ba13-ca0edb8e1253",
        "outputId": "0b8d6295-7ce4-4898-b643-1ef8842840a6"
      },
      "outputs": [
        {
          "data": {
            "text/plain": [
              "{'Porosity': 0.22,\n",
              " 'Permeability': 150,\n",
              " 'Oil_Saturation': 0.75,\n",
              " 'Gas_Saturation': 0.15,\n",
              " 'Net_Pay': 40}"
            ]
          },
          "execution_count": 79,
          "metadata": {},
          "output_type": "execute_result"
        }
      ],
      "source": [
        "formation_A_properties"
      ]
    },
    {
      "cell_type": "code",
      "execution_count": null,
      "id": "6919d960-999a-4738-854c-0174d138ec8e",
      "metadata": {
        "id": "6919d960-999a-4738-854c-0174d138ec8e"
      },
      "outputs": [],
      "source": []
    },
    {
      "cell_type": "code",
      "execution_count": null,
      "id": "0b60878b-5a29-4609-b28d-eb17d1b5651b",
      "metadata": {
        "id": "0b60878b-5a29-4609-b28d-eb17d1b5651b",
        "outputId": "8f8d952c-d538-49eb-bfbf-a5fae56982f2"
      },
      "outputs": [
        {
          "data": {
            "text/plain": [
              "dict_keys(['Porosity', 'Permeability', 'Oil_Saturation', 'Gas_Saturation', 'Net_Pay'])"
            ]
          },
          "execution_count": 80,
          "metadata": {},
          "output_type": "execute_result"
        }
      ],
      "source": [
        "# Extracting all formation names in the reservoir_properties dictionary\n",
        "all_properties = formation_A_properties.keys()\n",
        "all_properties"
      ]
    },
    {
      "cell_type": "code",
      "execution_count": null,
      "id": "dc1976db-2d82-4c56-9a5f-c6773a0cc108",
      "metadata": {
        "id": "dc1976db-2d82-4c56-9a5f-c6773a0cc108",
        "outputId": "653dc341-af7d-4e54-dd14-fc1e1abb8350"
      },
      "outputs": [
        {
          "data": {
            "text/plain": [
              "dict_values([0.22, 150, 0.75, 0.15, 40])"
            ]
          },
          "execution_count": 81,
          "metadata": {},
          "output_type": "execute_result"
        }
      ],
      "source": [
        "# Extracting all permeabilities in the reservoir_properties dictionary\n",
        "all_values = formation_A_properties.values()\n",
        "all_values"
      ]
    },
    {
      "cell_type": "code",
      "execution_count": null,
      "id": "41fadebb-3365-4115-a44c-7e979861b839",
      "metadata": {
        "id": "41fadebb-3365-4115-a44c-7e979861b839",
        "outputId": "b967d746-5a98-4879-9f2b-562b3d059ff4"
      },
      "outputs": [
        {
          "data": {
            "text/plain": [
              "dict_items([('Porosity', 0.22), ('Permeability', 150), ('Oil_Saturation', 0.75), ('Gas_Saturation', 0.15), ('Net_Pay', 40)])"
            ]
          },
          "execution_count": 82,
          "metadata": {},
          "output_type": "execute_result"
        }
      ],
      "source": [
        "# Extracting all formation and permeability pairs\n",
        "formation_A_properties_pairs = formation_A_properties.items()\n",
        "formation_A_properties_pairs"
      ]
    },
    {
      "cell_type": "code",
      "execution_count": null,
      "id": "c6c5d9c9-4dc5-4358-8fcf-567578e94d9f",
      "metadata": {
        "id": "c6c5d9c9-4dc5-4358-8fcf-567578e94d9f",
        "outputId": "331fd0fc-7608-4986-ca70-bf58a26650c3"
      },
      "outputs": [
        {
          "data": {
            "text/plain": [
              "150"
            ]
          },
          "execution_count": 83,
          "metadata": {},
          "output_type": "execute_result"
        }
      ],
      "source": [
        "# Accessing permeability of Formation A\n",
        "formation_A_permeability = formation_A_properties['Permeability']\n",
        "formation_A_permeability"
      ]
    },
    {
      "cell_type": "code",
      "execution_count": null,
      "id": "e19e1687-3efc-4674-8d61-c94fd37a8509",
      "metadata": {
        "id": "e19e1687-3efc-4674-8d61-c94fd37a8509",
        "outputId": "cf84bf8a-a269-4162-dc84-962ff894bec5"
      },
      "outputs": [
        {
          "data": {
            "text/plain": [
              "{'Porosity': 0.22,\n",
              " 'Permeability': 150,\n",
              " 'Oil_Saturation': 0.75,\n",
              " 'Gas_Saturation': 0.15,\n",
              " 'Net_Pay': 40}"
            ]
          },
          "execution_count": 84,
          "metadata": {},
          "output_type": "execute_result"
        }
      ],
      "source": [
        "formation_A_properties"
      ]
    },
    {
      "cell_type": "code",
      "execution_count": null,
      "id": "ce6195f9-31ac-4554-a7ea-efaf7ec2876e",
      "metadata": {
        "id": "ce6195f9-31ac-4554-a7ea-efaf7ec2876e"
      },
      "outputs": [],
      "source": [
        "# Adding a new property to the formation_A_properties dictionary\n",
        "formation_A_properties['Net_Pay'] = 40"
      ]
    },
    {
      "cell_type": "code",
      "execution_count": null,
      "id": "0908ea44-f4bd-4136-bc3c-9f04399f9531",
      "metadata": {
        "id": "0908ea44-f4bd-4136-bc3c-9f04399f9531",
        "outputId": "8066bddc-58bf-408e-99f9-e6aef4da964d"
      },
      "outputs": [
        {
          "data": {
            "text/plain": [
              "{'Porosity': 0.22,\n",
              " 'Permeability': 150,\n",
              " 'Oil_Saturation': 0.75,\n",
              " 'Gas_Saturation': 0.15,\n",
              " 'Net_Pay': 40}"
            ]
          },
          "execution_count": 86,
          "metadata": {},
          "output_type": "execute_result"
        }
      ],
      "source": [
        "formation_A_properties"
      ]
    },
    {
      "cell_type": "code",
      "execution_count": null,
      "id": "d0d1e868-9c95-4056-845d-6f787c028c59",
      "metadata": {
        "id": "d0d1e868-9c95-4056-845d-6f787c028c59"
      },
      "outputs": [],
      "source": [
        "# Retrieving oil saturation with a default value\n",
        "oil_saturation_A = formation_A_properties.get('Oil_Saturation', 0.0)"
      ]
    },
    {
      "cell_type": "code",
      "execution_count": null,
      "id": "131aca91-9cff-45da-be06-8d25d999fa44",
      "metadata": {
        "id": "131aca91-9cff-45da-be06-8d25d999fa44"
      },
      "outputs": [],
      "source": []
    },
    {
      "cell_type": "markdown",
      "id": "bd04ae77-1d7c-49ec-b4c4-2dde86823368",
      "metadata": {
        "id": "bd04ae77-1d7c-49ec-b4c4-2dde86823368"
      },
      "source": [
        "### Example: Well Production Rate Estimation\n",
        "\n",
        "Develop a Python script to estimate the production rate of oil wells based on historical data. The script will prompt the user to enter the production rates of three wells for each of the last five months. It will then calculate the average production rate for each well and identify the well with the highest average production.\n",
        "\n",
        "**Requirements:**\n",
        "\n",
        "- Prompt the user to enter the production rates (in barrels per day) for three wells over the last five months.\n",
        "- Utilize nested loops to gather data for each well and each month.\n",
        "- Calculate the average production rate for each well over the five months.\n",
        "- Identify and display the well with the highest average production rate.\n",
        "- Utilize conditional statements to ensure valid numerical entries for production rates.\n",
        "- Display clear and informative output messages to communicate the average production rates and the well with the highest production."
      ]
    },
    {
      "cell_type": "code",
      "execution_count": null,
      "id": "5f4432a4-c23c-4f47-b081-4720450289f7",
      "metadata": {
        "id": "5f4432a4-c23c-4f47-b081-4720450289f7"
      },
      "outputs": [],
      "source": [
        "# well_prod = {'WellA':[45,67,68,67,90], 'WellB':[45,67,68,67,90], 'WellC':[45,67,68,67,90]}\n",
        "#avg_well_prod = {'WellA':30, 'WellB':45, 'WellC':60}\n",
        "\n",
        "well_productions = {}\n",
        "\n",
        "for well in range(1,4):\n",
        "\n",
        "    print(f\"\\nEnter details for well{well}: \")\n",
        "\n",
        "    monthly_production_rate = []\n",
        "    for month in range(1,6):\n",
        "        rate = float(input(f\"Enter the production rate for month{month}: \"))\n",
        "        monthly_production_rate.append(rate)\n",
        "\n",
        "\n",
        "    well_productions[f\"Well{well}\"] = monthly_production_rate\n",
        "\n",
        "\n",
        "avg_well_prod ={}\n",
        "\n",
        "for well,rate in well_productions.items():\n",
        "    avg_rate = sum(rate)/len(rate)\n",
        "    avg_well_prod[f\"{well}\"]=avg_rate\n",
        "\n",
        "\n",
        "\n",
        "max_prod_well = max(avg_well_prod, key = avg_well_prod.get)\n",
        "max_prod_well_avg_prod = avg_well_prod[max_prod_well]\n",
        "\n",
        "\n",
        "print(f\"\\nThe well with the maximum average production rate is {max_prod_well} with an average production rate of {max_prod_well_avg_prod}\")\n"
      ]
    },
    {
      "cell_type": "code",
      "execution_count": null,
      "id": "e8c96fd0-9780-4ff4-8817-321a0ebdd090",
      "metadata": {
        "id": "e8c96fd0-9780-4ff4-8817-321a0ebdd090"
      },
      "outputs": [],
      "source": []
    },
    {
      "cell_type": "code",
      "execution_count": null,
      "id": "8b875b47-6795-48e5-ba43-7dc97196ed9a",
      "metadata": {
        "id": "8b875b47-6795-48e5-ba43-7dc97196ed9a"
      },
      "outputs": [],
      "source": [
        "numbers=[1,2,3,4,5,6,7,8,9]"
      ]
    },
    {
      "cell_type": "code",
      "execution_count": null,
      "id": "ef81a0a4-de87-4e77-b221-180b641eed01",
      "metadata": {
        "id": "ef81a0a4-de87-4e77-b221-180b641eed01",
        "outputId": "78c24aff-08b1-4406-829a-c7b93809be8e"
      },
      "outputs": [
        {
          "data": {
            "text/plain": [
              "9"
            ]
          },
          "execution_count": 94,
          "metadata": {},
          "output_type": "execute_result"
        }
      ],
      "source": [
        "max(numbers)"
      ]
    },
    {
      "cell_type": "code",
      "execution_count": null,
      "id": "92b454cb-5a3c-4420-b29d-264554faaf1b",
      "metadata": {
        "id": "92b454cb-5a3c-4420-b29d-264554faaf1b",
        "outputId": "2519867b-734a-4fb5-9917-3c57b5ec9730"
      },
      "outputs": [
        {
          "data": {
            "text/plain": [
              "45"
            ]
          },
          "execution_count": 92,
          "metadata": {},
          "output_type": "execute_result"
        }
      ],
      "source": [
        "sum(numbers)"
      ]
    },
    {
      "cell_type": "code",
      "execution_count": null,
      "id": "fc80e6f1-0453-4203-8c61-9cba37487415",
      "metadata": {
        "id": "fc80e6f1-0453-4203-8c61-9cba37487415",
        "outputId": "15d840e0-640b-45af-9cd9-cf02c206b2e1"
      },
      "outputs": [
        {
          "data": {
            "text/plain": [
              "9"
            ]
          },
          "execution_count": 93,
          "metadata": {},
          "output_type": "execute_result"
        }
      ],
      "source": [
        "len(numbers)"
      ]
    },
    {
      "cell_type": "code",
      "execution_count": null,
      "id": "4ce00d3a-bc7b-41df-aa0d-56cf3993f978",
      "metadata": {
        "id": "4ce00d3a-bc7b-41df-aa0d-56cf3993f978"
      },
      "outputs": [],
      "source": []
    },
    {
      "cell_type": "code",
      "execution_count": null,
      "id": "450d4e24-2338-4920-8c47-2c5545db5682",
      "metadata": {
        "id": "450d4e24-2338-4920-8c47-2c5545db5682"
      },
      "outputs": [],
      "source": []
    },
    {
      "cell_type": "code",
      "execution_count": null,
      "id": "1c377674-aa35-4265-9bc4-b88cadfc2276",
      "metadata": {
        "id": "1c377674-aa35-4265-9bc4-b88cadfc2276",
        "outputId": "7e2cca08-9454-44f4-9be5-094ab7773b24"
      },
      "outputs": [
        {
          "data": {
            "text/plain": [
              "{'Porosity': 0.22,\n",
              " 'Permeability': 150,\n",
              " 'Oil_Saturation': 0.75,\n",
              " 'Gas_Saturation': 0.15,\n",
              " 'Net_Pay': 40}"
            ]
          },
          "execution_count": 88,
          "metadata": {},
          "output_type": "execute_result"
        }
      ],
      "source": [
        "formation_A_properties"
      ]
    },
    {
      "cell_type": "code",
      "execution_count": null,
      "id": "961292d0-abc2-4689-bb24-01dbe6655b82",
      "metadata": {
        "id": "961292d0-abc2-4689-bb24-01dbe6655b82",
        "outputId": "d547743e-7319-4f45-a70b-72a6a39ba166"
      },
      "outputs": [
        {
          "data": {
            "text/plain": [
              "'Permeability'"
            ]
          },
          "execution_count": 96,
          "metadata": {},
          "output_type": "execute_result"
        }
      ],
      "source": [
        "max(formation_A_properties, key=formation_A_properties.get) # to tell python \" use the value to find the max\""
      ]
    },
    {
      "cell_type": "code",
      "execution_count": null,
      "id": "ee6166b1-2edf-49d1-bc2a-2cbd0d3487cd",
      "metadata": {
        "id": "ee6166b1-2edf-49d1-bc2a-2cbd0d3487cd",
        "outputId": "3713a87c-ae2c-4694-a9ab-887bf9381436"
      },
      "outputs": [
        {
          "data": {
            "text/plain": [
              "dict_items([('Porosity', 0.22), ('Permeability', 150), ('Oil_Saturation', 0.75), ('Gas_Saturation', 0.15), ('Net_Pay', 40)])"
            ]
          },
          "execution_count": 89,
          "metadata": {},
          "output_type": "execute_result"
        }
      ],
      "source": [
        "formation_A_properties.items()"
      ]
    },
    {
      "cell_type": "code",
      "execution_count": null,
      "id": "f4c98f95-f7d4-403e-8564-59706117ff39",
      "metadata": {
        "id": "f4c98f95-f7d4-403e-8564-59706117ff39",
        "outputId": "da6813fb-538b-4815-e1e4-5b18a1fd24de"
      },
      "outputs": [
        {
          "name": "stdout",
          "output_type": "stream",
          "text": [
            "This is the key: Porosity, this is the value: 0.22\n",
            "This is the key: Permeability, this is the value: 150\n",
            "This is the key: Oil_Saturation, this is the value: 0.75\n",
            "This is the key: Gas_Saturation, this is the value: 0.15\n",
            "This is the key: Net_Pay, this is the value: 40\n"
          ]
        }
      ],
      "source": [
        "for prop, value in formation_A_properties.items():\n",
        "    print(f\"This is the key: {prop}, this is the value: {value}\")"
      ]
    },
    {
      "cell_type": "code",
      "execution_count": null,
      "id": "9977813c-5495-4765-84b3-6ea773f8ec42",
      "metadata": {
        "id": "9977813c-5495-4765-84b3-6ea773f8ec42"
      },
      "outputs": [],
      "source": []
    },
    {
      "cell_type": "code",
      "execution_count": null,
      "id": "256021cf-7094-440f-89fc-0a8346ad6709",
      "metadata": {
        "id": "256021cf-7094-440f-89fc-0a8346ad6709"
      },
      "outputs": [],
      "source": []
    },
    {
      "cell_type": "code",
      "execution_count": null,
      "id": "1851f24b-dae4-47f8-838e-44ec6371b66a",
      "metadata": {
        "id": "1851f24b-dae4-47f8-838e-44ec6371b66a",
        "outputId": "41d45582-07eb-4c12-fa56-4f3632fea3e9"
      },
      "outputs": [
        {
          "name": "stdout",
          "output_type": "stream",
          "text": [
            "1\n",
            "We are in loop 1\n",
            "2\n",
            "We are in loop 2\n",
            "3\n",
            "We are in loop 3\n"
          ]
        }
      ],
      "source": [
        "for well in range(1,4):\n",
        "    print(well)\n",
        "    print(f\"We are in loop {well}\")"
      ]
    },
    {
      "cell_type": "code",
      "execution_count": null,
      "id": "1c73d0be-bd04-4ccf-9d9e-42d1b2133f21",
      "metadata": {
        "id": "1c73d0be-bd04-4ccf-9d9e-42d1b2133f21"
      },
      "outputs": [],
      "source": [
        "numbers=[]\n",
        "\n",
        "for num in range(1,11):\n",
        "    numbers.append(num)"
      ]
    },
    {
      "cell_type": "code",
      "execution_count": null,
      "id": "33561d36-1fc7-4365-8b6f-849ab8548d99",
      "metadata": {
        "id": "33561d36-1fc7-4365-8b6f-849ab8548d99",
        "outputId": "6d826c84-e56f-4136-fc70-2bde253dc136"
      },
      "outputs": [
        {
          "data": {
            "text/plain": [
              "[1, 2, 3, 4, 5, 6, 7, 8, 9, 10]"
            ]
          },
          "execution_count": 78,
          "metadata": {},
          "output_type": "execute_result"
        }
      ],
      "source": [
        "numbers"
      ]
    },
    {
      "cell_type": "code",
      "execution_count": null,
      "id": "fe8a7143-b6f4-47f7-b95d-f72f313cd53b",
      "metadata": {
        "id": "fe8a7143-b6f4-47f7-b95d-f72f313cd53b"
      },
      "outputs": [],
      "source": []
    },
    {
      "cell_type": "markdown",
      "id": "368c747e-2c72-4f69-9f27-d111e9fcfb45",
      "metadata": {
        "id": "368c747e-2c72-4f69-9f27-d111e9fcfb45"
      },
      "source": [
        "### Assignment: Reservoir Well Test Analysis\n",
        "\n",
        "Develop a Python script to analyze well test data from multiple reservoirs. The script will prompt the user to input well test data, including the well name, reservoir pressure, and production rate for each well. The data will be stored in a dictionary where well names are keys, and values are lists containing reservoir pressure and production rate.\n",
        "\n",
        "**Requirements:**\n",
        "\n",
        "- Prompt the user to input the number of wells to analyze.<br>\n",
        "- For each well, prompt the user to enter the well name, reservoir pressure, and production rate.<br>\n",
        "- Utilize a loop to allow the user to input data for multiple wells.<br>\n",
        "- Store the input data in a dictionary, where well names are keys, and values are lists containing reservoir pressure and production rate.<br>\n",
        "- Display the stored well test data for each well.<br>\n",
        "- Calculate and display the average reservoir pressure and production rate across all wells.<br>"
      ]
    },
    {
      "cell_type": "code",
      "source": [
        "# no_of_wells = int(input(\"Enter the numbeer of wells to be analyzed : \"))\n",
        "# Prompt the user to input the number of wells\n",
        "while True:\n",
        "    try:\n",
        "        no_of_wells = int(input(\"Enter the number of wells to analyze: \"))\n",
        "        break\n",
        "    except ValueError:\n",
        "        print(\"Please enter a valid number.\")\n",
        "# Dictionary to store well test data\n",
        "well_data={}\n",
        "for i in range(1, no_of_wells + 1):\n",
        "        print(f\"\\nDetails for Well {i}:\")\n",
        "        well_name = input(\"Enter well name: \")\n",
        "        # reservoir_pressure = float(input(\"Enter reservoir pressure (in psi): \"))\n",
        "        # production_rate = float(input(\"Enter production rate (in bbl/day): \"))\n",
        "        # Prompt user for reservoir pressure with error handling\n",
        "        while True:\n",
        "            try:\n",
        "                reservoir_pressure = float(input(\"Enter reservoir pressure (in psi): \"))\n",
        "                break\n",
        "            except ValueError:\n",
        "                print(\"Please enter a valid number for reservoir pressure.\")\n",
        "\n",
        "        # Prompt user for production rate with error handling\n",
        "        while True:\n",
        "            try:\n",
        "                production_rate = float(input(\"Enter production rate (in bbl/day): \"))\n",
        "                break\n",
        "            except ValueError:\n",
        "                print(\"Please enter a valid number for production rate.\")\n",
        "\n",
        "        well_data[well_name] = [reservoir_pressure, production_rate]\n",
        "        well_data[well_name] = [reservoir_pressure, production_rate]\n",
        "        # Display stored well test data\n",
        "        print(f\"\\nWell test data: {well_data[well_name]}\")\n",
        "# Well test data\n",
        "print(f\"\\nWell test data: {well_data}\")\n",
        "# Calculate average reservoir pressure and production rate\n",
        "total_reservoir_pressure = sum(data[0] for data in well_data.values())\n",
        "total_production_rate = sum(data[1] for data in well_data.values())\n",
        "avg_reservoir_pressure = total_reservoir_pressure / no_of_wells\n",
        "avg_production_rate = total_production_rate / no_of_wells\n",
        "\n",
        "    # Display average data\n",
        "print(\"\\nAverage Data:\")\n",
        "print(f\"Average Reservoir Pressure: {avg_reservoir_pressure} psi\")\n",
        "print(f\"Average Production Rate: {avg_production_rate} bbl/day\")"
      ],
      "metadata": {
        "id": "0tHI_2KVkOYv",
        "colab": {
          "base_uri": "https://localhost:8080/"
        },
        "outputId": "f9ba9a53-2abe-45ec-b903-72286aaa0801"
      },
      "id": "0tHI_2KVkOYv",
      "execution_count": null,
      "outputs": [
        {
          "output_type": "stream",
          "name": "stdout",
          "text": [
            "Enter the number of wells to analyze: d\n",
            "Please enter a valid number.\n",
            "Enter the number of wells to analyze: 4\n",
            "\n",
            "Details for Well 1:\n",
            "Enter well name: joy\n",
            "Enter reservoir pressure (in psi): d\n",
            "Please enter a valid number for reservoir pressure.\n"
          ]
        }
      ]
    }
  ],
  "metadata": {
    "kernelspec": {
      "display_name": "Python 3 (ipykernel)",
      "language": "python",
      "name": "python3"
    },
    "language_info": {
      "codemirror_mode": {
        "name": "ipython",
        "version": 3
      },
      "file_extension": ".py",
      "mimetype": "text/x-python",
      "name": "python",
      "nbconvert_exporter": "python",
      "pygments_lexer": "ipython3",
      "version": "3.12.1"
    },
    "colab": {
      "provenance": [],
      "toc_visible": true,
      "include_colab_link": true
    }
  },
  "nbformat": 4,
  "nbformat_minor": 5
}